{
 "cells": [
  {
   "cell_type": "markdown",
   "id": "ad41ac30",
   "metadata": {},
   "source": [
    "# Giới thiệu nhóm và phân công đồ án thực hành"
   ]
  },
  {
   "cell_type": "markdown",
   "id": "8f251ccf",
   "metadata": {},
   "source": [
    "## 1. Giới thiệu thành viên"
   ]
  },
  {
   "cell_type": "markdown",
   "id": "5d17af6f",
   "metadata": {},
   "source": [
    "**Tên nhóm: Anadata**\n",
    "\n",
    "**Thành viên:**\n",
    "\n",
    "| MSSV | Họ và tên | Email |\n",
    "| :--- | :-------- | :---- |\n",
    "| 20120089 | **Lê Xuân Hoàng** | [20120089@student.hcmus.edu.vn](https://github.com/hoangitusk20)|\n",
    "| 20120422 | **Nguyễn Thị Ánh Tuyết** | [20120422@student.hcmus.edu.vn](https://github.com/hoangitusk20)|\n",
    "| 20120460 | **Lê Nguyễn Hải Dương** | [20120460@student.hcmus.edu.vn](https://github.com/hoangitusk20)|\n",
    "| 20120494 | **Lê Xuân Huy** | [20120494@student.hcmus.edu.vn](https://github.com/hoangitusk20)|\n",
    "| 20120521 | **Trần Thị Phương Linh** | [20120521@student.hcmus.edu.vn](https://github.com/hoangitusk20)|\n",
    "\n"
   ]
  },
  {
   "cell_type": "markdown",
   "id": "116d19e9",
   "metadata": {},
   "source": [
    "## 2. Phân công"
   ]
  },
  {
   "cell_type": "markdown",
   "id": "1c382ced",
   "metadata": {},
   "source": [
    "| Họ và tên | Công việc | Mức độ hoàn thành | \n",
    "| :-------------------- | :------------------------------ | :--------------|\n",
    "| Trần Thị Phương Linh | Tiền xử lý dữ liệu | 100% |\n",
    "| Lê Xuân Hoàng | Khám phá dữ liệu | 100% |\n",
    "| Nguyễn Thị Ánh Tuyết | | 100% |\n",
    "| Lê Nguyễn Hải Dương | | 100% |\n",
    "| Lê xuân Huy | | 100% |\n"
   ]
  }
 ],
 "metadata": {
  "kernelspec": {
   "display_name": "Python 3 (ipykernel)",
   "language": "python",
   "name": "python3"
  },
  "language_info": {
   "codemirror_mode": {
    "name": "ipython",
    "version": 3
   },
   "file_extension": ".py",
   "mimetype": "text/x-python",
   "name": "python",
   "nbconvert_exporter": "python",
   "pygments_lexer": "ipython3",
   "version": "3.10.9"
  }
 },
 "nbformat": 4,
 "nbformat_minor": 5
}
